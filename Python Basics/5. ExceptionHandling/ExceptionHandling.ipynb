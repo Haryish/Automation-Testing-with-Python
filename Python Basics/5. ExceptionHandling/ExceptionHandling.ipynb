{
 "cells": [
  {
   "cell_type": "markdown",
   "metadata": {},
   "source": [
    "Exception Handling in Python\n",
    "Python provides a powerful way to handle errors (exceptions) using the try, except, else, and finally blocks. Here's how each part works:\n",
    "\n",
    "try Block: Contains the code that might raise an exception.\n",
    "except Block: Defines how to handle exceptions if they occur in the try block.\n",
    "else Block: Contains code to run if no exception occurs in the try block.\n",
    "finally Block: Contains code that will always run, no matter what (even if an exception occurs).\n"
   ]
  },
  {
   "cell_type": "markdown",
   "metadata": {},
   "source": [
    "Example Code: Exception Handling in Python"
   ]
  },
  {
   "cell_type": "code",
   "execution_count": 1,
   "metadata": {},
   "outputs": [
    {
     "name": "stdout",
     "output_type": "stream",
     "text": [
      "Test 1: Valid Division\n",
      "Division successful!\n",
      "Execution complete.\n",
      "\n",
      "Test 2: Division by Zero\n",
      "Error: Cannot divide by zero.\n",
      "Execution complete.\n",
      "\n",
      "Test 3: Invalid Input Types\n",
      "Error: Invalid input types - unsupported operand type(s) for /: 'int' and 'str'\n",
      "Execution complete.\n",
      "\n",
      "Test 4: Valid Division\n",
      "Division successful!\n",
      "Execution complete.\n"
     ]
    }
   ],
   "source": [
    "# Custom Exception class\n",
    "class CustomError(Exception):\n",
    "    \"\"\"A custom exception class for specific errors\"\"\"\n",
    "    pass\n",
    "\n",
    "\n",
    "def divide_numbers(numerator, denominator):\n",
    "    \"\"\"Function that divides two numbers, with exception handling\"\"\"\n",
    "    try:\n",
    "        # Trying to divide\n",
    "        result = numerator / denominator\n",
    "    except ZeroDivisionError as e:\n",
    "        # Handling division by zero\n",
    "        print(\"Error: Cannot divide by zero.\")\n",
    "        return None\n",
    "    except TypeError as e:\n",
    "        # Handling incorrect types (e.g., trying to divide a string)\n",
    "        print(f\"Error: Invalid input types - {e}\")\n",
    "        return None\n",
    "    else:\n",
    "        # If no exceptions occurred, return the result\n",
    "        print(\"Division successful!\")\n",
    "        return result\n",
    "    finally:\n",
    "        # This block will always execute, even if an exception is raised\n",
    "        print(\"Execution complete.\")\n",
    "\n",
    "        \n",
    "# Testing the divide_numbers function with different cases\n",
    "print(\"Test 1: Valid Division\")\n",
    "result = divide_numbers(10, 2)  # Should succeed\n",
    "\n",
    "print(\"\\nTest 2: Division by Zero\")\n",
    "result = divide_numbers(10, 0)  # Should raise ZeroDivisionError\n",
    "\n",
    "print(\"\\nTest 3: Invalid Input Types\")\n",
    "result = divide_numbers(10, 'a')  # Should raise TypeError\n",
    "\n",
    "print(\"\\nTest 4: Valid Division\")\n",
    "result = divide_numbers(15, 3)  # Should succeed\n"
   ]
  },
  {
   "cell_type": "markdown",
   "metadata": {},
   "source": [
    "Code Breakdown:\n",
    "1. Custom Exception\n",
    "A custom exception CustomError is created using Python's built-in Exception class. Custom exceptions are helpful when you want to define errors specific to your application logic.\n",
    "2. try Block\n",
    "The code inside the try block is executed first. If no exception is raised, the rest of the code (inside the else block) is executed.\n",
    "In the divide_numbers function, we try to divide two numbers, which might raise exceptions like ZeroDivisionError or TypeError.\n",
    "3. except Block\n",
    "The except block catches specific exceptions that are raised in the try block.\n",
    "In our example, we handle:\n",
    "ZeroDivisionError when the denominator is zero.\n",
    "TypeError if the input types are incorrect (e.g., dividing a number by a string).\n",
    "If the exception matches, the corresponding block is executed.\n",
    "4. else Block\n",
    "The else block runs only if no exceptions were raised in the try block.\n",
    "In our example, if the division succeeds without any issues, it prints \"Division successful!\" and returns the result.\n",
    "5. finally Block\n",
    "The finally block is always executed, regardless of whether an exception occurred or not.\n",
    "It is typically used for cleanup operations, like closing files or releasing resources.\n",
    "In our example, it prints \"Execution complete.\" after each division attempt."
   ]
  },
  {
   "cell_type": "markdown",
   "metadata": {},
   "source": [
    "Output:\n",
    "\n",
    "Test 1: Valid Division\n",
    "Division successful!\n",
    "Execution complete.\n",
    "\n",
    "Test 2: Division by Zero\n",
    "Error: Cannot divide by zero.\n",
    "Execution complete.\n",
    "\n",
    "Test 3: Invalid Input Types\n",
    "Error: Invalid input types - unsupported operand type(s) for /: 'int' and 'str'\n",
    "Execution complete.\n",
    "\n",
    "Test 4: Valid Division\n",
    "Division successful!\n",
    "Execution complete.\n",
    "    "
   ]
  },
  {
   "cell_type": "markdown",
   "metadata": {},
   "source": [
    "Key Points to Remember:\n",
    "\n",
    "1. Handling Multiple Exceptions:\n",
    "\n",
    "You can catch multiple exceptions using multiple except blocks, as shown in the example above. You can also catch multiple exceptions in one except block using parentheses:\n",
    "\n",
    "except (ZeroDivisionError, TypeError) as e:\n",
    "    print(f\"Error: {e}\")\n",
    "\n",
    "2. Using else:\n",
    "\n",
    "The else block runs only if no exceptions occur in the try block. This can be useful for code that should run only when no error has occurred.\n",
    "Using finally:\n",
    "\n",
    "The finally block runs no matter what. It is useful for cleanup tasks such as closing files, releasing resources, or other final actions that must always be performed.\n",
    "\n",
    "3. Raising Exceptions:\n",
    "\n",
    "You can raise your own exceptions using the raise keyword:\n",
    "\n",
    "raise CustomError(\"This is a custom exception\")\n",
    "Nested Try-Except Blocks:\n",
    "\n",
    "You can nest try-except blocks to handle different types of errors at different levels of your program.\n",
    "\n",
    "4. Additional Resources for Exception Handling:\n",
    "Python Docs on Exceptions: https://docs.python.org/3/tutorial/errors.html\n",
    "Real Python on Exception Handling: https://realpython.com/python-exceptions/\n",
    "By understanding these core concepts of exception handling, you will be well-prepared for handling errors effectively in your Python programs! You can now copy and paste this code into VS Code and start experimenting with different exceptions and scenarios."
   ]
  }
 ],
 "metadata": {
  "kernelspec": {
   "display_name": ".venv",
   "language": "python",
   "name": "python3"
  },
  "language_info": {
   "codemirror_mode": {
    "name": "ipython",
    "version": 3
   },
   "file_extension": ".py",
   "mimetype": "text/x-python",
   "name": "python",
   "nbconvert_exporter": "python",
   "pygments_lexer": "ipython3",
   "version": "3.12.6"
  }
 },
 "nbformat": 4,
 "nbformat_minor": 2
}
