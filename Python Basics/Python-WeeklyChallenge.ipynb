{
 "cells": [
  {
   "cell_type": "markdown",
   "metadata": {},
   "source": [
    "## Challenge 1: Plus Minus Proportion\n",
    "Given an array of integers, calculate the ratios of its elements that are positive, negative, and zero. Print the decimal value of each fraction on a new line with  places after the decimal.\n",
    "\n",
    "Note: This challenge introduces precision problems. The test cases are scaled to six decimal places, though answers with absolute error of up to 10^-4 are acceptable.\n",
    "\n",
    "**Sample Input**\n",
    "<table>\n",
    "  <tr>\n",
    "    <th>STDIN</th>\n",
    "    <th>Function</th>\n",
    "  </tr>\n",
    "  <tr>\n",
    "    <td>6</td>\n",
    "    <td>arr[] size n = 6</td>\n",
    "  </tr>\n",
    "  <tr>\n",
    "    <td>-4 3 -9 0 4 1 </td>\n",
    "    <td colspan=\"2\">arr = [-4, 3, -9, 0, 4, 1]</td>\n",
    "  </tr>\n",
    "</table>\n",
    "\n",
    "\n",
    "\n",
    "**Sample Output**\n",
    "\n",
    "0.500000 \\n\n",
    "0.333333 \\n\n",
    "0.166667 \\n\n",
    "\n",
    "__Explanation__\n",
    "There are  positive numbers,  negative numbers, and  zero in the array.\n",
    "The proportions of occurrence are positive: , negative:  and zeros: ."
   ]
  },
  {
   "cell_type": "code",
   "execution_count": 5,
   "metadata": {},
   "outputs": [
    {
     "name": "stdout",
     "output_type": "stream",
     "text": [
      "0.500000\n",
      "0.333333\n",
      "0.166667\n"
     ]
    }
   ],
   "source": [
    "import math, os, random, re, sys\n",
    "\n",
    "def plusMinus(integers):\n",
    "    plus,minus,zero = [],[],[]\n",
    "    for x in integers:\n",
    "        if x > 0: plus.append(x)\n",
    "        elif x < 0: minus.append(x)\n",
    "        else: zero.append(x)\n",
    "    print(f\"{len(plus)/len(integers):.6f}\")\n",
    "    print(f\"{len(minus)/len(integers):.6f}\")\n",
    "    print(f\"{len(zero)/len(integers):.6f}\")\n",
    "    \n",
    "\n",
    "if __name__ == '__main__':\n",
    "    n = int(input().strip())\n",
    "    arr = list(map(int, input().rstrip().split()))\n",
    "    plusMinus(arr)"
   ]
  },
  {
   "cell_type": "markdown",
   "metadata": {},
   "source": [
    "## Challenge 2: Mini-Max Sum\n",
    "\n",
    "### Problem Description\n",
    "\n",
    "Given five positive integers, find the minimum and maximum values that can be calculated by summing exactly four of the five integers. Then print the respective minimum and maximum values as a single line of two space-separated long integers.\n",
    "\n",
    "**_Example_**\n",
    "\n",
    "The minimum sum is 16 and the maximum sum is 24. The function prints:\n",
    "\n",
    "\n",
    "16 24\n",
    "\n",
    "\n",
    "\n",
    "**_Function Description_**\n",
    "\n",
    "Complete the `miniMaxSum` function in the editor below.\n",
    "\n",
    "`miniMaxSum` has the following parameter(s):\n",
    "- `arr`: an array of 5 integers\n",
    "\n",
    "**_Print_**\n",
    "\n",
    "Print two space-separated integers on one line: the minimum sum and the maximum sum of 4 of 5 elements.\n",
    "\n",
    "**_Input Format_**\n",
    "\n",
    "A single line of five space-separated integers.\n",
    "\n",
    "**_Constraints_**\n",
    "\n",
    "1 <= arr[i] <= 10^9\n",
    "\n",
    "\n",
    "\n",
    "**_Output Format_**\n",
    "\n",
    "Print two space-separated long integers denoting the respective minimum and maximum values that can be calculated by summing exactly four of the five integers.\n",
    "- The output can be greater than a 32-bit integer.\n",
    "\n",
    "**_Sample Input_**\n",
    "\n",
    "1 2 3 4 5\n",
    "\n",
    "**_Sample Output_**\n",
    "10 14\n",
    "\n",
    "**_Explanation_**\n",
    "\n",
    "The numbers are , , , , and . Calculate the following sums using four of the five integers:\n",
    "\n",
    "Sum everything except , the sum is .\n",
    "Sum everything except , the sum is .\n",
    "Sum everything except , the sum is .\n",
    "Sum everything except , the sum is .\n",
    "Sum everything except , the sum is .\n",
    "Hints: Beware of integer overflow! Use 64-bit Integer.\n",
    "\n"
   ]
  },
  {
   "cell_type": "code",
   "execution_count": 16,
   "metadata": {},
   "outputs": [
    {
     "name": "stdout",
     "output_type": "stream",
     "text": [
      "16 24\n"
     ]
    }
   ],
   "source": [
    "\n",
    "#!/bin/python3\n",
    "import math\n",
    "import os\n",
    "import random\n",
    "import re\n",
    "import sys\n",
    "# Complete the 'miniMaxSum' function below.\n",
    "# The function accepts INTEGER_ARRAY arr as parameter.\n",
    "def miniMaxSum(arr):\n",
    "    sums = []\n",
    "    sum_set = []\n",
    "    for i in range(len(arr)):\n",
    "        sums.append(arr[:i]+arr[i+1:])\n",
    "#        print(sums)\n",
    "        sum_set.append(sum(x for x in sums[0]))\n",
    "#        print(sum_set)\n",
    "        sums = []\n",
    "#        print(sums)\n",
    "#    print(sum_set)\n",
    "    print(min(sum_set),max(sum_set))\n",
    " \n",
    "\n",
    "\n",
    "if __name__ == '__main__':\n",
    "    arr = list(map(int, input().rstrip().split()))\n",
    "#   arr = [1,2,3,4,5]\n",
    "    miniMaxSum(arr)"
   ]
  },
  {
   "cell_type": "markdown",
   "metadata": {},
   "source": [
    "# Challenge 3: Time Convertion\n",
    "Given a time in 12-hour AM/PM format, convert it to military (24-hour) time.\n",
    "\n",
    "Note: - 12:00:00AM on a 12-hour clock is 00:00:00 on a 24-hour clock.\n",
    "- 12:00:00PM on a 12-hour clock is 12:00:00 on a 24-hour clock.\n",
    "\n",
    "Sample Input\n",
    "07:05:45PM\n",
    "\n",
    "Sample Output\n",
    "19:05:45"
   ]
  },
  {
   "cell_type": "code",
   "execution_count": 17,
   "metadata": {},
   "outputs": [
    {
     "name": "stdout",
     "output_type": "stream",
     "text": [
      "19:05:45\n"
     ]
    }
   ],
   "source": [
    "def timeConversion(s):\n",
    "    # Extract the period (AM/PM)\n",
    "    period_ind = s[-2:]\n",
    "    # Extract hour, minute, and second, excluding the last 2 characters (AM/PM)\n",
    "    hour, minute, second = map(int, s[:-2].split(\":\"))\n",
    "\n",
    "    # Convert hour based on the period\n",
    "    if period_ind == \"PM\" and hour != 12:  # Convert PM times except 12 PM\n",
    "        hour += 12\n",
    "    elif period_ind == \"AM\" and hour == 12:  # Convert 12 AM to 0\n",
    "        hour = 0\n",
    "\n",
    "    # Return the military time in \"HH:MM:SS\" format\n",
    "    return f\"{hour:02}:{minute:02}:{second:02}\"\n",
    "\n",
    "\n",
    "if __name__ == \"__main__\":\n",
    "    s = input()  # Take input in the format \"hh:mm:ssAM/PM\"\n",
    "    result = timeConversion(s)\n",
    "    print(result)  # Output the converted time\n"
   ]
  }
 ],
 "metadata": {
  "kernelspec": {
   "display_name": ".venv",
   "language": "python",
   "name": "python3"
  },
  "language_info": {
   "codemirror_mode": {
    "name": "ipython",
    "version": 3
   },
   "file_extension": ".py",
   "mimetype": "text/x-python",
   "name": "python",
   "nbconvert_exporter": "python",
   "pygments_lexer": "ipython3",
   "version": "3.12.6"
  }
 },
 "nbformat": 4,
 "nbformat_minor": 2
}
